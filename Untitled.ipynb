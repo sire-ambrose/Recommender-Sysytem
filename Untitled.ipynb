{
 "cells": [
  {
   "cell_type": "markdown",
   "id": "6ff0c3df",
   "metadata": {},
   "source": [
    "## Importing Spark"
   ]
  },
  {
   "cell_type": "code",
   "execution_count": 1,
   "id": "dd55ab97",
   "metadata": {},
   "outputs": [],
   "source": [
    "from pyspark.sql import SparkSession\n",
    "import pandas as pd\n",
    "import matplotlib.pyplot as plt\n",
    "import gc"
   ]
  },
  {
   "cell_type": "code",
   "execution_count": 2,
   "id": "5ef5f215",
   "metadata": {},
   "outputs": [],
   "source": [
    "### creating a spark session"
   ]
  },
  {
   "cell_type": "code",
   "execution_count": 3,
   "id": "8025c58d",
   "metadata": {},
   "outputs": [
    {
     "name": "stderr",
     "output_type": "stream",
     "text": [
      "21/12/05 19:31:56 WARN Utils: Your hostname, amenemope-HP-250-G5-Notebook-PC resolves to a loopback address: 127.0.1.1; using 192.168.43.219 instead (on interface wlp2s0)\n",
      "21/12/05 19:31:56 WARN Utils: Set SPARK_LOCAL_IP if you need to bind to another address\n",
      "Using Spark's default log4j profile: org/apache/spark/log4j-defaults.properties\n",
      "Setting default log level to \"WARN\".\n",
      "To adjust logging level use sc.setLogLevel(newLevel). For SparkR, use setLogLevel(newLevel).\n",
      "21/12/05 19:32:01 WARN NativeCodeLoader: Unable to load native-hadoop library for your platform... using builtin-java classes where applicable\n"
     ]
    }
   ],
   "source": [
    "spark= SparkSession.builder.appName('movie_recommender').getOrCreate()"
   ]
  },
  {
   "cell_type": "markdown",
   "id": "49442b48",
   "metadata": {},
   "source": [
    "### reading the rating data"
   ]
  },
  {
   "cell_type": "code",
   "execution_count": 4,
   "id": "abc75ef0",
   "metadata": {},
   "outputs": [
    {
     "name": "stderr",
     "output_type": "stream",
     "text": [
      "                                                                                \r"
     ]
    }
   ],
   "source": [
    "data= spark.read.option('header', 'true').csv('u.data', sep='\\t',header=False,inferSchema=True)"
   ]
  },
  {
   "cell_type": "code",
   "execution_count": 5,
   "id": "6d3451f4",
   "metadata": {},
   "outputs": [
    {
     "name": "stderr",
     "output_type": "stream",
     "text": [
      "                                                                                \r"
     ]
    },
    {
     "name": "stdout",
     "output_type": "stream",
     "text": [
      "+---+---+---+---------+\n",
      "|_c0|_c1|_c2|      _c3|\n",
      "+---+---+---+---------+\n",
      "|196|242|  3|881250949|\n",
      "|186|302|  3|891717742|\n",
      "| 22|377|  1|878887116|\n",
      "|244| 51|  2|880606923|\n",
      "|166|346|  1|886397596|\n",
      "+---+---+---+---------+\n",
      "\n"
     ]
    }
   ],
   "source": [
    "data.limit(5).show()"
   ]
  },
  {
   "cell_type": "markdown",
   "id": "7b95ca03",
   "metadata": {},
   "source": [
    "### renaming the rating columns"
   ]
  },
  {
   "cell_type": "code",
   "execution_count": 6,
   "id": "fc5bdcff",
   "metadata": {},
   "outputs": [
    {
     "data": {
      "text/plain": [
       "DataFrame[userID: int, movieID: int, rating: int, timeStamp: int]"
      ]
     },
     "execution_count": 6,
     "metadata": {},
     "output_type": "execute_result"
    }
   ],
   "source": [
    "data=data.withColumnRenamed(existing='_c0',new='userID')\n",
    "data=data.withColumnRenamed(existing='_c1',new='movieID')\n",
    "data=data.withColumnRenamed(existing='_c2',new='rating')\n",
    "data=data.withColumnRenamed(existing='_c3',new='timeStamp')\n",
    "data"
   ]
  },
  {
   "cell_type": "markdown",
   "id": "06385eeb",
   "metadata": {},
   "source": [
    "### reading the movies dataset"
   ]
  },
  {
   "cell_type": "code",
   "execution_count": 7,
   "id": "770a976b",
   "metadata": {},
   "outputs": [
    {
     "data": {
      "text/plain": [
       "DataFrame[movieID: int, movie title: string, release date: string, video release date: string, IMDbURL: string, unknown: int, Action: double, Adventure: double, Animation: double, Children: double, Comedy: double, Crime: double, Documentary: double, Drama: double, Fantasy: double, Film-Noir: double, Horror: double, Musical: double, Mystery: double, Romance: double, Sci-Fi: double, Thriller: double, War: double, Western: double]"
      ]
     },
     "execution_count": 7,
     "metadata": {},
     "output_type": "execute_result"
    }
   ],
   "source": [
    "movies= spark.read.option('header', 'true').csv('u.movies',header=True,inferSchema=True)\n",
    "movies"
   ]
  },
  {
   "cell_type": "markdown",
   "id": "fb1ad841",
   "metadata": {},
   "source": [
    "### selecting the tags available"
   ]
  },
  {
   "cell_type": "code",
   "execution_count": 8,
   "id": "c0a88e8a",
   "metadata": {},
   "outputs": [
    {
     "data": {
      "text/plain": [
       "['Action',\n",
       " 'Adventure',\n",
       " 'Animation',\n",
       " 'Children',\n",
       " 'Comedy',\n",
       " 'Crime',\n",
       " 'Documentary',\n",
       " 'Drama',\n",
       " 'Fantasy',\n",
       " 'Film-Noir',\n",
       " 'Horror',\n",
       " 'Musical',\n",
       " 'Mystery',\n",
       " 'Romance',\n",
       " 'Sci-Fi',\n",
       " 'Thriller',\n",
       " 'War',\n",
       " 'Western']"
      ]
     },
     "execution_count": 8,
     "metadata": {},
     "output_type": "execute_result"
    }
   ],
   "source": [
    "non_tags=['movieID', 'movie title','release date','video release date','IMDbURL','unknown']\n",
    "tags=[i for i in movies.columns if i not in non_tags]\n",
    "tags"
   ]
  },
  {
   "cell_type": "markdown",
   "id": "41b39de8",
   "metadata": {},
   "source": [
    "### showing tag value of the first 5  movies"
   ]
  },
  {
   "cell_type": "code",
   "execution_count": 9,
   "id": "e43dfb58",
   "metadata": {},
   "outputs": [
    {
     "data": {
      "text/plain": [
       "[Row(Action=0.1, Adventure=0.2, Animation=1.1, Children=1.2, Comedy=1.3, Crime=0.3, Documentary=0.4, Drama=0.5, Fantasy=0.6, Film-Noir=0.7, Horror=0.8, Musical=0.9, Mystery=0.1, Romance=0.11, Sci-Fi=0.12, Thriller=0.13, War=0.14, Western=0.15),\n",
       " Row(Action=0.0, Adventure=0.0, Animation=0.0, Children=0.0, Comedy=0.0, Crime=0.0, Documentary=0.0, Drama=0.0, Fantasy=0.0, Film-Noir=0.0, Horror=0.0, Musical=0.0, Mystery=0.0, Romance=0.0, Sci-Fi=0.0, Thriller=1.0, War=0.0, Western=0.0),\n",
       " Row(Action=1.0, Adventure=0.0, Animation=0.0, Children=0.0, Comedy=1.0, Crime=0.0, Documentary=0.0, Drama=1.0, Fantasy=0.0, Film-Noir=0.0, Horror=0.0, Musical=0.0, Mystery=0.0, Romance=0.0, Sci-Fi=0.0, Thriller=0.0, War=0.0, Western=0.0),\n",
       " Row(Action=0.0, Adventure=0.0, Animation=0.0, Children=0.0, Comedy=0.0, Crime=1.0, Documentary=0.0, Drama=1.0, Fantasy=0.0, Film-Noir=0.0, Horror=0.0, Musical=0.0, Mystery=0.0, Romance=0.0, Sci-Fi=0.0, Thriller=1.0, War=0.0, Western=0.0),\n",
       " Row(Action=0.0, Adventure=0.0, Animation=0.0, Children=0.0, Comedy=0.0, Crime=0.0, Documentary=0.0, Drama=1.0, Fantasy=0.0, Film-Noir=0.0, Horror=0.0, Musical=0.0, Mystery=0.0, Romance=0.0, Sci-Fi=0.0, Thriller=0.0, War=0.0, Western=0.0)]"
      ]
     },
     "execution_count": 9,
     "metadata": {},
     "output_type": "execute_result"
    }
   ],
   "source": [
    "movies.select(tags).head(5)"
   ]
  },
  {
   "cell_type": "markdown",
   "id": "92668af3",
   "metadata": {},
   "source": [
    "### vector assembling the features"
   ]
  },
  {
   "cell_type": "code",
   "execution_count": 10,
   "id": "aecdc03d",
   "metadata": {},
   "outputs": [
    {
     "data": {
      "text/plain": [
       "DataFrame[movieID: int, movie title: string, release date: string, video release date: string, IMDbURL: string, unknown: int, Action: double, Adventure: double, Animation: double, Children: double, Comedy: double, Crime: double, Documentary: double, Drama: double, Fantasy: double, Film-Noir: double, Horror: double, Musical: double, Mystery: double, Romance: double, Sci-Fi: double, Thriller: double, War: double, Western: double, tags: vector]"
      ]
     },
     "execution_count": 10,
     "metadata": {},
     "output_type": "execute_result"
    }
   ],
   "source": [
    "from pyspark.ml.feature import VectorAssembler\n",
    "\n",
    "assembler = VectorAssembler().setInputCols(tags).setOutputCol(\"tags\")\n",
    "\n",
    "assembled_tags= assembler.transform(movies)\n",
    "assembled_tags"
   ]
  },
  {
   "cell_type": "markdown",
   "id": "5e683f5e",
   "metadata": {},
   "source": [
    "### showing the assembled tags"
   ]
  },
  {
   "cell_type": "code",
   "execution_count": 26,
   "id": "cc0fb20c",
   "metadata": {},
   "outputs": [
    {
     "name": "stderr",
     "output_type": "stream",
     "text": [
      "21/12/05 17:29:11 WARN package: Truncated the string representation of a plan since it was too large. This behavior can be adjusted by setting 'spark.sql.debug.maxToStringFields'.\n"
     ]
    },
    {
     "name": "stdout",
     "output_type": "stream",
     "text": [
      "+--------------------+\n",
      "|                tags|\n",
      "+--------------------+\n",
      "|[0.1,0.2,1.1,1.2,...|\n",
      "|     (18,[15],[1.0])|\n",
      "|(18,[0,4,7],[1.0,...|\n",
      "|(18,[5,7,15],[1.0...|\n",
      "|      (18,[7],[1.0])|\n",
      "|(18,[7,14],[1.0,1...|\n",
      "|(18,[3,4,7],[1.0,...|\n",
      "|      (18,[7],[1.0])|\n",
      "|(18,[7,16],[1.0,1...|\n",
      "|(18,[5,15],[1.0,1...|\n",
      "|(18,[5,15],[1.0,1...|\n",
      "|      (18,[4],[1.0])|\n",
      "|(18,[7,13],[1.0,1...|\n",
      "|      (18,[7],[1.0])|\n",
      "|(18,[4,13],[1.0,1...|\n",
      "|(18,[0,4,5,10,15]...|\n",
      "|      (18,[7],[1.0])|\n",
      "|      (18,[7],[1.0])|\n",
      "|(18,[7,13],[1.0,1...|\n",
      "|(18,[0,1,4,11,15]...|\n",
      "+--------------------+\n",
      "only showing top 20 rows\n",
      "\n"
     ]
    },
    {
     "name": "stderr",
     "output_type": "stream",
     "text": [
      "\r",
      "[Stage 8:>                                                          (0 + 1) / 1]\r",
      "\r",
      "                                                                                \r"
     ]
    }
   ],
   "source": [
    "assembled_tags.select('tags').show()"
   ]
  },
  {
   "cell_type": "code",
   "execution_count": 27,
   "id": "2793cbde",
   "metadata": {},
   "outputs": [],
   "source": [
    "import numpy as np\n",
    "from pyspark.ml.linalg import *\n",
    "from pyspark.sql.types import * \n",
    "from pyspark.sql.functions import *"
   ]
  },
  {
   "cell_type": "code",
   "execution_count": 28,
   "id": "cfc6eb3a",
   "metadata": {},
   "outputs": [],
   "source": [
    "### cosine simililarity function"
   ]
  },
  {
   "cell_type": "code",
   "execution_count": 29,
   "id": "bd198088",
   "metadata": {},
   "outputs": [],
   "source": [
    "def cos_sim(a,b):\n",
    "    return float(np.dot(a, b) / (np.linalg.norm(a) * np.linalg.norm(b)))"
   ]
  },
  {
   "cell_type": "code",
   "execution_count": 30,
   "id": "83fb5717",
   "metadata": {},
   "outputs": [
    {
     "name": "stderr",
     "output_type": "stream",
     "text": [
      "                                                                                \r"
     ]
    }
   ],
   "source": [
    "movies_list= movies.select('movie title').rdd.flatMap(lambda x: x).collect()"
   ]
  },
  {
   "cell_type": "code",
   "execution_count": 31,
   "id": "686f84a5",
   "metadata": {},
   "outputs": [],
   "source": [
    "### this function searches for a movie"
   ]
  },
  {
   "cell_type": "code",
   "execution_count": 32,
   "id": "3112f10d",
   "metadata": {},
   "outputs": [],
   "source": [
    "def search(movie_name):\n",
    "    result= []\n",
    "    for i in movies_list:\n",
    "        if movie_name.title() in i:\n",
    "            print(i)\n",
    "            result.append(i)"
   ]
  },
  {
   "cell_type": "code",
   "execution_count": 33,
   "id": "e2d1c4af",
   "metadata": {},
   "outputs": [],
   "source": [
    "### recommending function"
   ]
  },
  {
   "cell_type": "code",
   "execution_count": 35,
   "id": "d37f5803",
   "metadata": {},
   "outputs": [],
   "source": [
    "def recommend():\n",
    "    query= input('search for a movie: ')\n",
    "    search(query)\n",
    "    movie_name= input('movie choice: ')\n",
    "    movie_name_id=(movies[movies['movie title']==movie_name][['movieID']]).collect()[0][0]\n",
    "    \n",
    "    \n",
    "    film= assembled_tags[assembled_tags['movieId']==movie_name_id][tags]\n",
    "    df = assembled_tags.withColumn(\"coSim\", udf(cos_sim, FloatType())(col(\"tags\"), array([lit(v) for v in film])))\n",
    "    print(df.select('coSim').tail(5))\n",
    "    result=df.orderBy(['coSim'], ascending= False).limit(10)\n",
    "    #.join(movies, on=['movieId'])\n",
    "    return result[['movie title']].show()"
   ]
  },
  {
   "cell_type": "code",
   "execution_count": null,
   "id": "e7eb5219",
   "metadata": {},
   "outputs": [
    {
     "name": "stdout",
     "output_type": "stream",
     "text": [
      "search for a movie: death\n",
      "Sudden Death (1995)\n",
      "Love and Death on Long Island (1997)\n",
      "Death and the Maiden (1994)\n",
      "Letter From Death Row, A (1998)\n",
      "Kiss of Death (1995)\n",
      "Marked for Death (1990)\n",
      "Two Deaths (1995)\n",
      "Three Lives and Only One Death (1996)\n",
      "Death in the Garden (Mort en ce jardin, La) (1956)\n",
      "Death in Brunswick (1991)\n",
      "movie choice: Sudden Death (1995)\n"
     ]
    }
   ],
   "source": [
    "recommend()"
   ]
  },
  {
   "cell_type": "code",
   "execution_count": null,
   "id": "f5b25bbb",
   "metadata": {},
   "outputs": [],
   "source": []
  },
  {
   "cell_type": "code",
   "execution_count": null,
   "id": "fe73e7c9",
   "metadata": {},
   "outputs": [],
   "source": []
  }
 ],
 "metadata": {
  "interpreter": {
   "hash": "916dbcbb3f70747c44a77c7bcd40155683ae19c65e1c03b4aa3499c5328201f1"
  },
  "kernelspec": {
   "display_name": "Python 3 (ipykernel)",
   "language": "python",
   "name": "python3"
  },
  "language_info": {
   "codemirror_mode": {
    "name": "ipython",
    "version": 3
   },
   "file_extension": ".py",
   "mimetype": "text/x-python",
   "name": "python",
   "nbconvert_exporter": "python",
   "pygments_lexer": "ipython3",
   "version": "3.8.10"
  }
 },
 "nbformat": 4,
 "nbformat_minor": 5
}
